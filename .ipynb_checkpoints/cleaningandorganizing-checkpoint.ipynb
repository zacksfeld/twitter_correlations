{
 "cells": [
  {
   "cell_type": "code",
   "execution_count": 2,
   "id": "e4b1f0ed-d756-418c-9568-526463ade18e",
   "metadata": {},
   "outputs": [],
   "source": [
    "import pandas as pd\n",
    "import numpy as np\n",
    "import seaborn as sns\n",
    "from datetime import datetime"
   ]
  },
  {
   "cell_type": "code",
   "execution_count": 3,
   "id": "fd60e4cb-8604-4677-994f-f5abcf9849f9",
   "metadata": {},
   "outputs": [
    {
     "data": {
      "text/html": [
       "<div>\n",
       "<style scoped>\n",
       "    .dataframe tbody tr th:only-of-type {\n",
       "        vertical-align: middle;\n",
       "    }\n",
       "\n",
       "    .dataframe tbody tr th {\n",
       "        vertical-align: top;\n",
       "    }\n",
       "\n",
       "    .dataframe thead th {\n",
       "        text-align: right;\n",
       "    }\n",
       "</style>\n",
       "<table border=\"1\" class=\"dataframe\">\n",
       "  <thead>\n",
       "    <tr style=\"text-align: right;\">\n",
       "      <th></th>\n",
       "      <th>timestamp</th>\n",
       "      <th>Apple</th>\n",
       "      <th>Amazon</th>\n",
       "      <th>Salesforce</th>\n",
       "      <th>CVS</th>\n",
       "      <th>Facebook</th>\n",
       "      <th>Google</th>\n",
       "      <th>IBM</th>\n",
       "      <th>Coca-Cola</th>\n",
       "      <th>Pfizer</th>\n",
       "      <th>UPS</th>\n",
       "    </tr>\n",
       "  </thead>\n",
       "  <tbody>\n",
       "    <tr>\n",
       "      <th>0</th>\n",
       "      <td>2015-02-26 21:42:53</td>\n",
       "      <td>104</td>\n",
       "      <td>57.0</td>\n",
       "      <td>11</td>\n",
       "      <td>0.0</td>\n",
       "      <td>53.0</td>\n",
       "      <td>35.0</td>\n",
       "      <td>7.0</td>\n",
       "      <td>8.0</td>\n",
       "      <td>3.0</td>\n",
       "      <td>2.0</td>\n",
       "    </tr>\n",
       "    <tr>\n",
       "      <th>1</th>\n",
       "      <td>2015-02-26 21:47:53</td>\n",
       "      <td>100</td>\n",
       "      <td>43.0</td>\n",
       "      <td>10</td>\n",
       "      <td>0.0</td>\n",
       "      <td>64.0</td>\n",
       "      <td>41.0</td>\n",
       "      <td>4.0</td>\n",
       "      <td>8.0</td>\n",
       "      <td>2.0</td>\n",
       "      <td>2.0</td>\n",
       "    </tr>\n",
       "    <tr>\n",
       "      <th>2</th>\n",
       "      <td>2015-02-26 21:52:53</td>\n",
       "      <td>99</td>\n",
       "      <td>55.0</td>\n",
       "      <td>3</td>\n",
       "      <td>0.0</td>\n",
       "      <td>49.0</td>\n",
       "      <td>32.0</td>\n",
       "      <td>14.0</td>\n",
       "      <td>5.0</td>\n",
       "      <td>2.0</td>\n",
       "      <td>4.0</td>\n",
       "    </tr>\n",
       "    <tr>\n",
       "      <th>3</th>\n",
       "      <td>2015-02-26 21:57:53</td>\n",
       "      <td>154</td>\n",
       "      <td>64.0</td>\n",
       "      <td>4</td>\n",
       "      <td>0.0</td>\n",
       "      <td>48.0</td>\n",
       "      <td>36.0</td>\n",
       "      <td>6.0</td>\n",
       "      <td>13.0</td>\n",
       "      <td>36.0</td>\n",
       "      <td>3.0</td>\n",
       "    </tr>\n",
       "    <tr>\n",
       "      <th>4</th>\n",
       "      <td>2015-02-26 22:02:53</td>\n",
       "      <td>120</td>\n",
       "      <td>93.0</td>\n",
       "      <td>9</td>\n",
       "      <td>0.0</td>\n",
       "      <td>22.0</td>\n",
       "      <td>32.0</td>\n",
       "      <td>1.0</td>\n",
       "      <td>22.0</td>\n",
       "      <td>8.0</td>\n",
       "      <td>5.0</td>\n",
       "    </tr>\n",
       "  </tbody>\n",
       "</table>\n",
       "</div>"
      ],
      "text/plain": [
       "             timestamp  Apple  Amazon  Salesforce  CVS  Facebook  Google  \\\n",
       "0  2015-02-26 21:42:53    104    57.0          11  0.0      53.0    35.0   \n",
       "1  2015-02-26 21:47:53    100    43.0          10  0.0      64.0    41.0   \n",
       "2  2015-02-26 21:52:53     99    55.0           3  0.0      49.0    32.0   \n",
       "3  2015-02-26 21:57:53    154    64.0           4  0.0      48.0    36.0   \n",
       "4  2015-02-26 22:02:53    120    93.0           9  0.0      22.0    32.0   \n",
       "\n",
       "    IBM  Coca-Cola  Pfizer  UPS  \n",
       "0   7.0        8.0     3.0  2.0  \n",
       "1   4.0        8.0     2.0  2.0  \n",
       "2  14.0        5.0     2.0  4.0  \n",
       "3   6.0       13.0    36.0  3.0  \n",
       "4   1.0       22.0     8.0  5.0  "
      ]
     },
     "execution_count": 3,
     "metadata": {},
     "output_type": "execute_result"
    }
   ],
   "source": [
    "# creating a variable for the file path and importing the csv with pandas to convert it into a dataframe\n",
    "\n",
    "file_path_twitter = 'dataset.csv'\n",
    "file_path_aapl = 'AAPL.csv'\n",
    "df_twitter = pd.read_csv(file_path_twitter)\n",
    "df_aapl = pd.read_csv(file_path_aapl)\n",
    "\n",
    "# taking a look a the top 5 entries of data to get a better understanding of how the data is organized \n",
    "\n",
    "df_twitter.head()"
   ]
  },
  {
   "cell_type": "code",
   "execution_count": 4,
   "id": "6933d40d-1460-43a6-8572-538fa9f814e9",
   "metadata": {},
   "outputs": [
    {
     "data": {
      "text/plain": [
       "datetime.date(2015, 2, 26)"
      ]
     },
     "execution_count": 4,
     "metadata": {},
     "output_type": "execute_result"
    }
   ],
   "source": [
    "# converting the values in the timestamp column from strings to datetime values that\n",
    "# will be easier to utilize later\n",
    "\n",
    "df_ts = df_twitter['timestamp'].tolist()\n",
    "new_ts = []\n",
    "for ts in df_ts:\n",
    "    x = datetime.strptime(ts, '%Y-%m-%d %H:%M:%S').date()\n",
    "    new_ts.append(x)\n",
    "\n",
    "df_twitter['timestamp'] = new_ts\n",
    "new_ts[0]"
   ]
  },
  {
   "cell_type": "code",
   "execution_count": 5,
   "id": "a43aa6ca-813b-485a-9f26-4fc3fe257855",
   "metadata": {},
   "outputs": [
    {
     "data": {
      "text/html": [
       "<div>\n",
       "<style scoped>\n",
       "    .dataframe tbody tr th:only-of-type {\n",
       "        vertical-align: middle;\n",
       "    }\n",
       "\n",
       "    .dataframe tbody tr th {\n",
       "        vertical-align: top;\n",
       "    }\n",
       "\n",
       "    .dataframe thead th {\n",
       "        text-align: right;\n",
       "    }\n",
       "</style>\n",
       "<table border=\"1\" class=\"dataframe\">\n",
       "  <thead>\n",
       "    <tr style=\"text-align: right;\">\n",
       "      <th></th>\n",
       "      <th>timestamp</th>\n",
       "      <th>Apple</th>\n",
       "      <th>Amazon</th>\n",
       "      <th>Salesforce</th>\n",
       "      <th>CVS</th>\n",
       "      <th>Facebook</th>\n",
       "      <th>Google</th>\n",
       "      <th>IBM</th>\n",
       "      <th>Coca-Cola</th>\n",
       "      <th>Pfizer</th>\n",
       "      <th>UPS</th>\n",
       "    </tr>\n",
       "  </thead>\n",
       "  <tbody>\n",
       "    <tr>\n",
       "      <th>0</th>\n",
       "      <td>2015-02-26</td>\n",
       "      <td>104</td>\n",
       "      <td>57.0</td>\n",
       "      <td>11</td>\n",
       "      <td>0.0</td>\n",
       "      <td>53.0</td>\n",
       "      <td>35.0</td>\n",
       "      <td>7.0</td>\n",
       "      <td>8.0</td>\n",
       "      <td>3.0</td>\n",
       "      <td>2.0</td>\n",
       "    </tr>\n",
       "    <tr>\n",
       "      <th>1</th>\n",
       "      <td>2015-02-26</td>\n",
       "      <td>100</td>\n",
       "      <td>43.0</td>\n",
       "      <td>10</td>\n",
       "      <td>0.0</td>\n",
       "      <td>64.0</td>\n",
       "      <td>41.0</td>\n",
       "      <td>4.0</td>\n",
       "      <td>8.0</td>\n",
       "      <td>2.0</td>\n",
       "      <td>2.0</td>\n",
       "    </tr>\n",
       "    <tr>\n",
       "      <th>2</th>\n",
       "      <td>2015-02-26</td>\n",
       "      <td>99</td>\n",
       "      <td>55.0</td>\n",
       "      <td>3</td>\n",
       "      <td>0.0</td>\n",
       "      <td>49.0</td>\n",
       "      <td>32.0</td>\n",
       "      <td>14.0</td>\n",
       "      <td>5.0</td>\n",
       "      <td>2.0</td>\n",
       "      <td>4.0</td>\n",
       "    </tr>\n",
       "    <tr>\n",
       "      <th>3</th>\n",
       "      <td>2015-02-26</td>\n",
       "      <td>154</td>\n",
       "      <td>64.0</td>\n",
       "      <td>4</td>\n",
       "      <td>0.0</td>\n",
       "      <td>48.0</td>\n",
       "      <td>36.0</td>\n",
       "      <td>6.0</td>\n",
       "      <td>13.0</td>\n",
       "      <td>36.0</td>\n",
       "      <td>3.0</td>\n",
       "    </tr>\n",
       "    <tr>\n",
       "      <th>4</th>\n",
       "      <td>2015-02-26</td>\n",
       "      <td>120</td>\n",
       "      <td>93.0</td>\n",
       "      <td>9</td>\n",
       "      <td>0.0</td>\n",
       "      <td>22.0</td>\n",
       "      <td>32.0</td>\n",
       "      <td>1.0</td>\n",
       "      <td>22.0</td>\n",
       "      <td>8.0</td>\n",
       "      <td>5.0</td>\n",
       "    </tr>\n",
       "  </tbody>\n",
       "</table>\n",
       "</div>"
      ],
      "text/plain": [
       "    timestamp  Apple  Amazon  Salesforce  CVS  Facebook  Google   IBM  \\\n",
       "0  2015-02-26    104    57.0          11  0.0      53.0    35.0   7.0   \n",
       "1  2015-02-26    100    43.0          10  0.0      64.0    41.0   4.0   \n",
       "2  2015-02-26     99    55.0           3  0.0      49.0    32.0  14.0   \n",
       "3  2015-02-26    154    64.0           4  0.0      48.0    36.0   6.0   \n",
       "4  2015-02-26    120    93.0           9  0.0      22.0    32.0   1.0   \n",
       "\n",
       "   Coca-Cola  Pfizer  UPS  \n",
       "0        8.0     3.0  2.0  \n",
       "1        8.0     2.0  2.0  \n",
       "2        5.0     2.0  4.0  \n",
       "3       13.0    36.0  3.0  \n",
       "4       22.0     8.0  5.0  "
      ]
     },
     "execution_count": 5,
     "metadata": {},
     "output_type": "execute_result"
    }
   ],
   "source": [
    "df_twitter.head()"
   ]
  },
  {
   "cell_type": "code",
   "execution_count": 6,
   "id": "1184af03-8841-4286-94e6-a8a95ec54feb",
   "metadata": {},
   "outputs": [
    {
     "data": {
      "text/plain": [
       "<AxesSubplot:xlabel='timestamp', ylabel='Apple'>"
      ]
     },
     "execution_count": 6,
     "metadata": {},
     "output_type": "execute_result"
    },
    {
     "data": {
      "image/png": "[encoded data removed]",
      "text/plain": [
       "<Figure size 432x288 with 1 Axes>"
      ]
     },
     "metadata": {
      "needs_background": "light"
     },
     "output_type": "display_data"
    }
   ],
   "source": [
    "# making a basic lineplot of the amount of times Apple was mentioned over the timeline\n",
    "\n",
    "sns.lineplot(data=df_twitter, x='timestamp', y='Apple')"
   ]
  },
  {
   "cell_type": "code",
   "execution_count": 7,
   "id": "ef235a39-73a9-40d1-b1b1-82a94a380c87",
   "metadata": {},
   "outputs": [
    {
     "name": "stdout",
     "output_type": "stream",
     "text": [
      "2015-02-26\n"
     ]
    }
   ],
   "source": [
    "# determine the earliest date\n",
    "\n",
    "earliest_date = df_twitter['timestamp'].iloc[0]\n",
    "print(earliest_date)"
   ]
  },
  {
   "cell_type": "code",
   "execution_count": 8,
   "id": "4b420799-dacd-48be-a627-038dfb7f0467",
   "metadata": {},
   "outputs": [
    {
     "data": {
      "text/html": [
       "<div>\n",
       "<style scoped>\n",
       "    .dataframe tbody tr th:only-of-type {\n",
       "        vertical-align: middle;\n",
       "    }\n",
       "\n",
       "    .dataframe tbody tr th {\n",
       "        vertical-align: top;\n",
       "    }\n",
       "\n",
       "    .dataframe thead th {\n",
       "        text-align: right;\n",
       "    }\n",
       "</style>\n",
       "<table border=\"1\" class=\"dataframe\">\n",
       "  <thead>\n",
       "    <tr style=\"text-align: right;\">\n",
       "      <th></th>\n",
       "      <th>Date</th>\n",
       "      <th>Open</th>\n",
       "      <th>High</th>\n",
       "      <th>Low</th>\n",
       "      <th>Close</th>\n",
       "      <th>Adj Close</th>\n",
       "      <th>Volume</th>\n",
       "    </tr>\n",
       "  </thead>\n",
       "  <tbody>\n",
       "    <tr>\n",
       "      <th>0</th>\n",
       "      <td>1980-12-12</td>\n",
       "      <td>0.128348</td>\n",
       "      <td>0.128906</td>\n",
       "      <td>0.128348</td>\n",
       "      <td>0.128348</td>\n",
       "      <td>0.100323</td>\n",
       "      <td>469033600</td>\n",
       "    </tr>\n",
       "    <tr>\n",
       "      <th>1</th>\n",
       "      <td>1980-12-15</td>\n",
       "      <td>0.122210</td>\n",
       "      <td>0.122210</td>\n",
       "      <td>0.121652</td>\n",
       "      <td>0.121652</td>\n",
       "      <td>0.095089</td>\n",
       "      <td>175884800</td>\n",
       "    </tr>\n",
       "    <tr>\n",
       "      <th>2</th>\n",
       "      <td>1980-12-16</td>\n",
       "      <td>0.113281</td>\n",
       "      <td>0.113281</td>\n",
       "      <td>0.112723</td>\n",
       "      <td>0.112723</td>\n",
       "      <td>0.088110</td>\n",
       "      <td>105728000</td>\n",
       "    </tr>\n",
       "    <tr>\n",
       "      <th>3</th>\n",
       "      <td>1980-12-17</td>\n",
       "      <td>0.115513</td>\n",
       "      <td>0.116071</td>\n",
       "      <td>0.115513</td>\n",
       "      <td>0.115513</td>\n",
       "      <td>0.090291</td>\n",
       "      <td>86441600</td>\n",
       "    </tr>\n",
       "    <tr>\n",
       "      <th>4</th>\n",
       "      <td>1980-12-18</td>\n",
       "      <td>0.118862</td>\n",
       "      <td>0.119420</td>\n",
       "      <td>0.118862</td>\n",
       "      <td>0.118862</td>\n",
       "      <td>0.092908</td>\n",
       "      <td>73449600</td>\n",
       "    </tr>\n",
       "  </tbody>\n",
       "</table>\n",
       "</div>"
      ],
      "text/plain": [
       "         Date      Open      High       Low     Close  Adj Close     Volume\n",
       "0  1980-12-12  0.128348  0.128906  0.128348  0.128348   0.100323  469033600\n",
       "1  1980-12-15  0.122210  0.122210  0.121652  0.121652   0.095089  175884800\n",
       "2  1980-12-16  0.113281  0.113281  0.112723  0.112723   0.088110  105728000\n",
       "3  1980-12-17  0.115513  0.116071  0.115513  0.115513   0.090291   86441600\n",
       "4  1980-12-18  0.118862  0.119420  0.118862  0.118862   0.092908   73449600"
      ]
     },
     "execution_count": 8,
     "metadata": {},
     "output_type": "execute_result"
    }
   ],
   "source": [
    "# taking a look at how the data is organized\n",
    "\n",
    "df_aapl.head()"
   ]
  },
  {
   "cell_type": "code",
   "execution_count": 9,
   "id": "28a2b193-42ab-4626-bac2-498f0e5552a3",
   "metadata": {},
   "outputs": [
    {
     "data": {
      "text/plain": [
       "str"
      ]
     },
     "execution_count": 9,
     "metadata": {},
     "output_type": "execute_result"
    }
   ],
   "source": [
    "# finding out how the Date value is stored\n",
    "\n",
    "type(df_aapl['Date'].iloc[0])"
   ]
  },
  {
   "cell_type": "code",
   "execution_count": 10,
   "id": "4419e533-944a-447e-84f4-af49a255c2cd",
   "metadata": {},
   "outputs": [],
   "source": [
    "# changing the Date value from a string to a datetime value to be used more easily later\n",
    "\n",
    "aapl_date = df_aapl['Date'].tolist()\n",
    "new_aapl_date = []\n",
    "for ad in aapl_date:\n",
    "    x = datetime.strptime(ad, '%Y-%m-%d')\n",
    "    new_aapl_date.append(x)\n",
    "    \n",
    "df_aapl['Date'] = new_aapl_date\n",
    "df_aapl = df_aapl.rename(columns={'Date':'timestamp'})"
   ]
  },
  {
   "cell_type": "code",
   "execution_count": 11,
   "id": "c640e7fb-564e-4fe0-a748-32b3189c26a0",
   "metadata": {},
   "outputs": [
    {
     "data": {
      "text/html": [
       "<div>\n",
       "<style scoped>\n",
       "    .dataframe tbody tr th:only-of-type {\n",
       "        vertical-align: middle;\n",
       "    }\n",
       "\n",
       "    .dataframe tbody tr th {\n",
       "        vertical-align: top;\n",
       "    }\n",
       "\n",
       "    .dataframe thead th {\n",
       "        text-align: right;\n",
       "    }\n",
       "</style>\n",
       "<table border=\"1\" class=\"dataframe\">\n",
       "  <thead>\n",
       "    <tr style=\"text-align: right;\">\n",
       "      <th></th>\n",
       "      <th>timestamp</th>\n",
       "      <th>Open</th>\n",
       "      <th>High</th>\n",
       "      <th>Low</th>\n",
       "      <th>Close</th>\n",
       "      <th>Adj Close</th>\n",
       "      <th>Volume</th>\n",
       "    </tr>\n",
       "  </thead>\n",
       "  <tbody>\n",
       "    <tr>\n",
       "      <th>0</th>\n",
       "      <td>2015-02-26</td>\n",
       "      <td>32.197498</td>\n",
       "      <td>32.717499</td>\n",
       "      <td>31.652500</td>\n",
       "      <td>32.605000</td>\n",
       "      <td>29.598347</td>\n",
       "      <td>365150000</td>\n",
       "    </tr>\n",
       "    <tr>\n",
       "      <th>1</th>\n",
       "      <td>2015-02-27</td>\n",
       "      <td>32.500000</td>\n",
       "      <td>32.642502</td>\n",
       "      <td>32.060001</td>\n",
       "      <td>32.115002</td>\n",
       "      <td>29.153534</td>\n",
       "      <td>248059200</td>\n",
       "    </tr>\n",
       "    <tr>\n",
       "      <th>2</th>\n",
       "      <td>2015-03-02</td>\n",
       "      <td>32.312500</td>\n",
       "      <td>32.570000</td>\n",
       "      <td>32.075001</td>\n",
       "      <td>32.272499</td>\n",
       "      <td>29.296509</td>\n",
       "      <td>192386800</td>\n",
       "    </tr>\n",
       "    <tr>\n",
       "      <th>3</th>\n",
       "      <td>2015-03-03</td>\n",
       "      <td>32.240002</td>\n",
       "      <td>32.380001</td>\n",
       "      <td>32.022499</td>\n",
       "      <td>32.340000</td>\n",
       "      <td>29.357788</td>\n",
       "      <td>151265200</td>\n",
       "    </tr>\n",
       "    <tr>\n",
       "      <th>4</th>\n",
       "      <td>2015-03-04</td>\n",
       "      <td>32.275002</td>\n",
       "      <td>32.389999</td>\n",
       "      <td>32.080002</td>\n",
       "      <td>32.134998</td>\n",
       "      <td>29.171682</td>\n",
       "      <td>126665200</td>\n",
       "    </tr>\n",
       "  </tbody>\n",
       "</table>\n",
       "</div>"
      ],
      "text/plain": [
       "   timestamp       Open       High        Low      Close  Adj Close     Volume\n",
       "0 2015-02-26  32.197498  32.717499  31.652500  32.605000  29.598347  365150000\n",
       "1 2015-02-27  32.500000  32.642502  32.060001  32.115002  29.153534  248059200\n",
       "2 2015-03-02  32.312500  32.570000  32.075001  32.272499  29.296509  192386800\n",
       "3 2015-03-03  32.240002  32.380001  32.022499  32.340000  29.357788  151265200\n",
       "4 2015-03-04  32.275002  32.389999  32.080002  32.134998  29.171682  126665200"
      ]
     },
     "execution_count": 11,
     "metadata": {},
     "output_type": "execute_result"
    }
   ],
   "source": [
    "# using only the relevant dates from the dataset that contains the stock information\n",
    "\n",
    "df_aapl_needed = df_aapl.set_index('timestamp').loc[earliest_date:].reset_index()\n",
    "df_aapl_needed.head()"
   ]
  },
  {
   "cell_type": "code",
   "execution_count": 12,
   "id": "318407e7-287f-4b45-aed7-30438b971430",
   "metadata": {},
   "outputs": [
    {
     "data": {
      "text/html": [
       "<div>\n",
       "<style scoped>\n",
       "    .dataframe tbody tr th:only-of-type {\n",
       "        vertical-align: middle;\n",
       "    }\n",
       "\n",
       "    .dataframe tbody tr th {\n",
       "        vertical-align: top;\n",
       "    }\n",
       "\n",
       "    .dataframe thead th {\n",
       "        text-align: right;\n",
       "    }\n",
       "</style>\n",
       "<table border=\"1\" class=\"dataframe\">\n",
       "  <thead>\n",
       "    <tr style=\"text-align: right;\">\n",
       "      <th></th>\n",
       "      <th>timestamp</th>\n",
       "      <th>Apple</th>\n",
       "    </tr>\n",
       "  </thead>\n",
       "  <tbody>\n",
       "    <tr>\n",
       "      <th>0</th>\n",
       "      <td>2015-02-26</td>\n",
       "      <td>104</td>\n",
       "    </tr>\n",
       "    <tr>\n",
       "      <th>1</th>\n",
       "      <td>2015-02-26</td>\n",
       "      <td>100</td>\n",
       "    </tr>\n",
       "    <tr>\n",
       "      <th>2</th>\n",
       "      <td>2015-02-26</td>\n",
       "      <td>99</td>\n",
       "    </tr>\n",
       "    <tr>\n",
       "      <th>3</th>\n",
       "      <td>2015-02-26</td>\n",
       "      <td>154</td>\n",
       "    </tr>\n",
       "    <tr>\n",
       "      <th>4</th>\n",
       "      <td>2015-02-26</td>\n",
       "      <td>120</td>\n",
       "    </tr>\n",
       "  </tbody>\n",
       "</table>\n",
       "</div>"
      ],
      "text/plain": [
       "    timestamp  Apple\n",
       "0  2015-02-26    104\n",
       "1  2015-02-26    100\n",
       "2  2015-02-26     99\n",
       "3  2015-02-26    154\n",
       "4  2015-02-26    120"
      ]
     },
     "execution_count": 12,
     "metadata": {},
     "output_type": "execute_result"
    }
   ],
   "source": [
    "# reseting the index of the apple mentions dataframe to default\n",
    "\n",
    "twitter_aapl = df_twitter.set_index('timestamp')['Apple']\n",
    "twitter_aapl = twitter_aapl.reset_index()\n",
    "twitter_aapl.head()"
   ]
  },
  {
   "cell_type": "code",
   "execution_count": 13,
   "id": "0c774ff6-28ad-4843-8dd1-06cd0aa1031f",
   "metadata": {},
   "outputs": [],
   "source": [
    "# created a function to get the counts of mentions for a specified company\n",
    "\n",
    "def combine_time(df, col_name_one, col_name_two):\n",
    "    new_df = dict()\n",
    "    for x in range(0, len(df)):\n",
    "        y = df.iloc[x]\n",
    "        try:\n",
    "            new_df[y[col_name_one]] += y[col_name_two] \n",
    "        except:\n",
    "            'KeyError'\n",
    "            new_df[y[col_name_one]] = y[col_name_two]\n",
    "    return pd.DataFrame({'timestamp':new_df.keys(), 'mentions':new_df.values()})"
   ]
  },
  {
   "cell_type": "code",
   "execution_count": 14,
   "id": "32547ad3-604c-49c2-8fc9-002c8ad95505",
   "metadata": {},
   "outputs": [
    {
     "data": {
      "text/html": [
       "<div>\n",
       "<style scoped>\n",
       "    .dataframe tbody tr th:only-of-type {\n",
       "        vertical-align: middle;\n",
       "    }\n",
       "\n",
       "    .dataframe tbody tr th {\n",
       "        vertical-align: top;\n",
       "    }\n",
       "\n",
       "    .dataframe thead th {\n",
       "        text-align: right;\n",
       "    }\n",
       "</style>\n",
       "<table border=\"1\" class=\"dataframe\">\n",
       "  <thead>\n",
       "    <tr style=\"text-align: right;\">\n",
       "      <th></th>\n",
       "      <th>mentions</th>\n",
       "    </tr>\n",
       "    <tr>\n",
       "      <th>timestamp</th>\n",
       "      <th></th>\n",
       "    </tr>\n",
       "  </thead>\n",
       "  <tbody>\n",
       "    <tr>\n",
       "      <th>2015-02-26</th>\n",
       "      <td>3336</td>\n",
       "    </tr>\n",
       "    <tr>\n",
       "      <th>2015-02-27</th>\n",
       "      <td>19498</td>\n",
       "    </tr>\n",
       "    <tr>\n",
       "      <th>2015-02-28</th>\n",
       "      <td>11909</td>\n",
       "    </tr>\n",
       "    <tr>\n",
       "      <th>2015-03-01</th>\n",
       "      <td>7890</td>\n",
       "    </tr>\n",
       "    <tr>\n",
       "      <th>2015-03-02</th>\n",
       "      <td>12426</td>\n",
       "    </tr>\n",
       "  </tbody>\n",
       "</table>\n",
       "</div>"
      ],
      "text/plain": [
       "            mentions\n",
       "timestamp           \n",
       "2015-02-26      3336\n",
       "2015-02-27     19498\n",
       "2015-02-28     11909\n",
       "2015-03-01      7890\n",
       "2015-03-02     12426"
      ]
     },
     "execution_count": 14,
     "metadata": {},
     "output_type": "execute_result"
    }
   ],
   "source": [
    "new_df = combine_time(twitter_aapl, 'timestamp', 'Apple')\n",
    "new_df.set_index('timestamp').head()"
   ]
  },
  {
   "cell_type": "code",
   "execution_count": 15,
   "id": "15fe4def-6777-483c-8bc1-caadec58d837",
   "metadata": {},
   "outputs": [
    {
     "data": {
      "text/plain": [
       "(datetime.date, pandas._libs.tslibs.timestamps.Timestamp)"
      ]
     },
     "execution_count": 15,
     "metadata": {},
     "output_type": "execute_result"
    }
   ],
   "source": [
    "type(new_df['timestamp'].iloc[0]), type(df_aapl_needed['timestamp'].iloc[0])"
   ]
  },
  {
   "cell_type": "code",
   "execution_count": 16,
   "id": "d27a0816-2fa7-42cc-aa40-9adeb92a088e",
   "metadata": {},
   "outputs": [
    {
     "data": {
      "text/plain": [
       "datetime.date"
      ]
     },
     "execution_count": 16,
     "metadata": {},
     "output_type": "execute_result"
    }
   ],
   "source": [
    "df_ats = df_aapl_needed['timestamp'].tolist()\n",
    "new_ats = []\n",
    "for ats in df_ats:\n",
    "    ats = str(ats)\n",
    "    x = datetime.strptime(ats, '%Y-%m-%d %H:%M:%S').date()\n",
    "    new_ats.append(x)\n",
    "\n",
    "df_aapl_needed['timestamp'] = new_ats\n",
    "type(df_aapl_needed['timestamp'].iloc[0])"
   ]
  },
  {
   "cell_type": "code",
   "execution_count": 17,
   "id": "e889f4ab-8c08-4d7e-96aa-354323f6d129",
   "metadata": {},
   "outputs": [],
   "source": [
    "# combining the dataframe that was just made with the dataframe created earlier that has the Apple market data\n",
    "\n",
    "appl_df_use = pd.merge(df_aapl_needed, new_df, how='inner')"
   ]
  },
  {
   "cell_type": "code",
   "execution_count": 18,
   "id": "bbec7443-764d-480d-87fc-039c7b24d578",
   "metadata": {},
   "outputs": [
    {
     "data": {
      "text/plain": [
       "<AxesSubplot:xlabel='timestamp', ylabel='Volume'>"
      ]
     },
     "execution_count": 18,
     "metadata": {},
     "output_type": "execute_result"
    },
    {
     "data": {
      "image/png": "[encoded data removed]",
      "text/plain": [
       "<Figure size 432x288 with 1 Axes>"
      ]
     },
     "metadata": {
      "needs_background": "light"
     },
     "output_type": "display_data"
    }
   ],
   "source": [
    "# a scatterplot that illustrates the relationship between the volume traded (y axis) and the amount of twitter mentions (the size)\n",
    "\n",
    "sns.scatterplot(data=appl_df_use, y='Volume', x='timestamp', size='mentions')"
   ]
  },
  {
   "cell_type": "code",
   "execution_count": null,
   "id": "e1d2243a-02df-4d5d-87f0-2dfd25cca5f5",
   "metadata": {},
   "outputs": [],
   "source": []
  }
 ],
 "metadata": {
  "kernelspec": {
   "display_name": "Python 3 (ipykernel)",
   "language": "python",
   "name": "python3"
  },
  "language_info": {
   "codemirror_mode": {
    "name": "ipython",
    "version": 3
   },
   "file_extension": ".py",
   "mimetype": "text/x-python",
   "name": "python",
   "nbconvert_exporter": "python",
   "pygments_lexer": "ipython3",
   "version": "3.10.5"
  }
 },
 "nbformat": 4,
 "nbformat_minor": 5
}
